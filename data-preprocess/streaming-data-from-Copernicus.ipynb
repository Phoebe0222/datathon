{
 "cells": [
  {
   "cell_type": "code",
   "execution_count": 2,
   "metadata": {},
   "outputs": [
    {
     "name": "stdout",
     "output_type": "stream",
     "text": [
      "Requirement already satisfied: Pillow in c:\\users\\phoeb\\anaconda3\\lib\\site-packages (from -r requirements.txt (line 1)) (6.1.0)\n",
      "Collecting sentinelsat (from -r requirements.txt (line 2))\n",
      "  Using cached https://files.pythonhosted.org/packages/5c/79/c2ac7b71dd13db95a9b83865bbbc7f1e4359c2b141bedad21b0e181fa06e/sentinelsat-0.13-py2.py3-none-any.whl\n",
      "Collecting geopandas (from -r requirements.txt (line 3))\n",
      "  Downloading https://files.pythonhosted.org/packages/21/80/da2a33c9201cd4ce693f4aa6189efc9ef1a48bec1c3b02c3ce9908b07fec/geopandas-0.5.1-py2.py3-none-any.whl (893kB)\n",
      "Collecting folium (from -r requirements.txt (line 4))\n",
      "  Downloading https://files.pythonhosted.org/packages/72/ff/004bfe344150a064e558cb2aedeaa02ecbf75e60e148a55a9198f0c41765/folium-0.10.0-py2.py3-none-any.whl (91kB)\n",
      "Collecting geojsonio (from -r requirements.txt (line 5))\n",
      "  Downloading https://files.pythonhosted.org/packages/7f/42/a773a4d4a6a78261dce418269cd017d8ff401206bc5724d9390084ebbf3d/geojsonio-0.0.3.tar.gz\n",
      "Collecting rasterio (from -r requirements.txt (line 6))\n",
      "  Downloading https://files.pythonhosted.org/packages/ac/d9/c369236ff112376a298bbd615471b6786e8974656c66e9db679f432f8932/rasterio-1.0.27.tar.gz (2.1MB)\n",
      "  Installing build dependencies: started\n",
      "  Installing build dependencies: finished with status 'done'\n",
      "  Getting requirements to build wheel: started\n",
      "  Getting requirements to build wheel: finished with status 'error'\n"
     ]
    },
    {
     "name": "stderr",
     "output_type": "stream",
     "text": [
      "  ERROR: Complete output from command 'C:\\Users\\phoeb\\Anaconda3\\python.exe' 'C:\\Users\\phoeb\\Anaconda3\\lib\\site-packages\\pip\\_vendor\\pep517\\_in_process.py' get_requires_for_build_wheel 'C:\\Users\\phoeb\\AppData\\Local\\Temp\\tmpmmai3hvt':\n",
      "  ERROR: INFO:root:Building on Windows requires extra options to setup.py to locate needed GDAL files. More information is available in the README.\n",
      "  ERROR: A GDAL API version must be specified. Provide a path to gdal-config using a GDAL_CONFIG environment variable or use a GDAL_VERSION environment variable.\n",
      "  ----------------------------------------\n",
      "ERROR: Command \"'C:\\Users\\phoeb\\Anaconda3\\python.exe' 'C:\\Users\\phoeb\\Anaconda3\\lib\\site-packages\\pip\\_vendor\\pep517\\_in_process.py' get_requires_for_build_wheel 'C:\\Users\\phoeb\\AppData\\Local\\Temp\\tmpmmai3hvt'\" failed with error code 1 in C:\\Users\\phoeb\\AppData\\Local\\Temp\\pip-install-21tynhts\\rasterio\n"
     ]
    }
   ],
   "source": [
    "!pip install -r requirements.txt"
   ]
  },
  {
   "cell_type": "markdown",
   "metadata": {},
   "source": [
    "## Accessing data from Copernicus straight away"
   ]
  },
  {
   "cell_type": "code",
   "execution_count": 2,
   "metadata": {},
   "outputs": [],
   "source": [
    "from sentinelsat import SentinelAPI\n",
    "import geopandas \n",
    "import folium \n",
    "\n",
    "user = 'phoebe0222' \n",
    "password = 'Lyw12345' \n",
    "api = SentinelAPI(user, password, 'https://scihub.copernicus.eu/dhus')"
   ]
  },
  {
   "cell_type": "code",
   "execution_count": 5,
   "metadata": {},
   "outputs": [
    {
     "data": {
      "text/html": [
       "<div style=\"width:100%;\"><div style=\"position:relative;width:100%;height:0;padding-bottom:60%;\"><iframe src=\"data:text/html;charset=utf-8;base64,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\" style=\"position:absolute;width:100%;height:100%;left:0;top:0;border:none !important;\" allowfullscreen webkitallowfullscreen mozallowfullscreen></iframe></div></div>"
      ],
      "text/plain": [
       "<folium.folium.Map at 0x1286e7630>"
      ]
     },
     "execution_count": 5,
     "metadata": {},
     "output_type": "execute_result"
    }
   ],
   "source": [
    "poly = geopandas.read_file('../data/sentinel-2a-tile-7680x-10240y/geometry/file-x7680-y10240.geojson')\n",
    "\n",
    "m = folium.Map([-20.384985615979,148.48600839605], zoom_start=12)\n",
    "folium.GeoJson(poly).add_to(m)\n",
    "m"
   ]
  },
  {
   "cell_type": "code",
   "execution_count": 1,
   "metadata": {},
   "outputs": [
    {
     "ename": "ModuleNotFoundError",
     "evalue": "No module named 'geojsonio'",
     "output_type": "error",
     "traceback": [
      "\u001b[1;31m---------------------------------------------------------------------------\u001b[0m",
      "\u001b[1;31mModuleNotFoundError\u001b[0m                       Traceback (most recent call last)",
      "\u001b[1;32m<ipython-input-1-f7b2115bfcb3>\u001b[0m in \u001b[0;36m<module>\u001b[1;34m\u001b[0m\n\u001b[1;32m----> 1\u001b[1;33m \u001b[1;32mimport\u001b[0m \u001b[0mgeojsonio\u001b[0m\u001b[1;33m\u001b[0m\u001b[1;33m\u001b[0m\u001b[0m\n\u001b[0m\u001b[0;32m      2\u001b[0m \u001b[0mgeojsonio\u001b[0m\u001b[1;33m.\u001b[0m\u001b[0mdisplay\u001b[0m\u001b[1;33m(\u001b[0m\u001b[0mpoly\u001b[0m\u001b[1;33m)\u001b[0m\u001b[1;33m\u001b[0m\u001b[1;33m\u001b[0m\u001b[0m\n",
      "\u001b[1;31mModuleNotFoundError\u001b[0m: No module named 'geojsonio'"
     ]
    }
   ],
   "source": [
    "import geojsonio\n",
    "geojsonio.display(poly)"
   ]
  },
  {
   "cell_type": "code",
   "execution_count": null,
   "metadata": {},
   "outputs": [],
   "source": [
    "from sentinelsat import SentinelAPI\n",
    "import geopandas \n",
    "import folium \n",
    "\n",
    "user = 'phoebe0222' \n",
    "password = 'Lyw12345' \n",
    "api = SentinelAPI(user, password, 'https://scihub.copernicus.eu/dhus')\n",
    "\n",
    "from sentinelsat import SentinelAPI, read_geojson, geojson_to_wkt\n",
    "from datetime import date\n",
    "\n",
    "footprint = geojson_to_wkt(read_geojson('testing.geojson'))\n",
    "products = api.query(footprint,\n",
    "                     date=('20181219', date(2018, 12, 29)),\n",
    "                     platformname='Sentinel-2',\n",
    "                     cloudcoverpercentage=(0, 30),\n",
    "                     area_relation='Intersects')\n",
    "\n",
    "# download all results from the search\n",
    "#api.download_all(products)\n",
    "\n",
    "# convert to Pandas DataFrame\n",
    "products_df = api.to_dataframe(products)\n",
    "\n",
    "# GeoJSON FeatureCollection containing footprints and metadata of the scenes\n",
    "api.to_geojson(products)\n",
    "\n",
    "# GeoPandas GeoDataFrame with the metadata of the scenes and the footprints as geometries\n",
    "api.to_geodataframe(products)\n",
    "\n",
    "# Get basic information about the product: its title, file size, MD5 sum, date, footprint and\n",
    "# its download url\n",
    "#api.get_product_odata(<product_id>)\n",
    "\n",
    "# Get the product's full metadata available on the server\n",
    "#api.get_product_odata(<product_id>, full=True)\n",
    "\n",
    "\n",
    "products_df.head(0)"
   ]
  }
 ],
 "metadata": {
  "kernelspec": {
   "display_name": "TFE",
   "language": "python",
   "name": "myenv"
  },
  "language_info": {
   "codemirror_mode": {
    "name": "ipython",
    "version": 3
   },
   "file_extension": ".py",
   "mimetype": "text/x-python",
   "name": "python",
   "nbconvert_exporter": "python",
   "pygments_lexer": "ipython3",
   "version": "3.6.8"
  }
 },
 "nbformat": 4,
 "nbformat_minor": 2
}
