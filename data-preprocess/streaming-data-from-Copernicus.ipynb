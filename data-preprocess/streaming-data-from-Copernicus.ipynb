{
 "cells": [
  {
   "cell_type": "code",
   "execution_count": 23,
   "metadata": {
    "collapsed": true
   },
   "outputs": [
    {
     "name": "stdout",
     "output_type": "stream",
     "text": [
      "Requirement already satisfied: Pillow in /anaconda3/envs/mlsa/lib/python3.7/site-packages (from -r install.txt (line 1)) (6.1.0)\n",
      "Requirement already satisfied: sentinelsat in /anaconda3/envs/mlsa/lib/python3.7/site-packages (from -r install.txt (line 2)) (0.13)\n",
      "Requirement already satisfied: geopandas in /anaconda3/envs/mlsa/lib/python3.7/site-packages (from -r install.txt (line 3)) (0.5.1)\n",
      "Requirement already satisfied: folium in /anaconda3/envs/mlsa/lib/python3.7/site-packages (from -r install.txt (line 4)) (0.10.0)\n",
      "Collecting geojsonio (from -r install.txt (line 5))\n",
      "  Downloading https://files.pythonhosted.org/packages/7f/42/a773a4d4a6a78261dce418269cd017d8ff401206bc5724d9390084ebbf3d/geojsonio-0.0.3.tar.gz\n",
      "Requirement already satisfied: geojson>=2 in /anaconda3/envs/mlsa/lib/python3.7/site-packages (from sentinelsat->-r install.txt (line 2)) (2.5.0)\n",
      "Requirement already satisfied: tqdm in /anaconda3/envs/mlsa/lib/python3.7/site-packages (from sentinelsat->-r install.txt (line 2)) (4.35.0)\n",
      "Requirement already satisfied: click in /anaconda3/envs/mlsa/lib/python3.7/site-packages (from sentinelsat->-r install.txt (line 2)) (7.0)\n",
      "Requirement already satisfied: requests in /anaconda3/envs/mlsa/lib/python3.7/site-packages (from sentinelsat->-r install.txt (line 2)) (2.22.0)\n",
      "Requirement already satisfied: six in /anaconda3/envs/mlsa/lib/python3.7/site-packages (from sentinelsat->-r install.txt (line 2)) (1.12.0)\n",
      "Requirement already satisfied: html2text in /anaconda3/envs/mlsa/lib/python3.7/site-packages (from sentinelsat->-r install.txt (line 2)) (2019.8.11)\n",
      "Requirement already satisfied: geomet in /anaconda3/envs/mlsa/lib/python3.7/site-packages (from sentinelsat->-r install.txt (line 2)) (0.2.1)\n",
      "Requirement already satisfied: pandas in /anaconda3/envs/mlsa/lib/python3.7/site-packages (from geopandas->-r install.txt (line 3)) (0.25.0)\n",
      "Requirement already satisfied: fiona in /anaconda3/envs/mlsa/lib/python3.7/site-packages (from geopandas->-r install.txt (line 3)) (1.8.6)\n",
      "Requirement already satisfied: pyproj in /anaconda3/envs/mlsa/lib/python3.7/site-packages (from geopandas->-r install.txt (line 3)) (2.3.1)\n",
      "Requirement already satisfied: shapely in /anaconda3/envs/mlsa/lib/python3.7/site-packages (from geopandas->-r install.txt (line 3)) (1.6.4.post2)\n",
      "Requirement already satisfied: branca>=0.3.0 in /anaconda3/envs/mlsa/lib/python3.7/site-packages (from folium->-r install.txt (line 4)) (0.3.1)\n",
      "Requirement already satisfied: numpy in /anaconda3/envs/mlsa/lib/python3.7/site-packages (from folium->-r install.txt (line 4)) (1.16.4)\n",
      "Requirement already satisfied: jinja2>=2.9 in /anaconda3/envs/mlsa/lib/python3.7/site-packages (from folium->-r install.txt (line 4)) (2.10.1)\n",
      "Collecting github3.py (from geojsonio->-r install.txt (line 5))\n",
      "\u001b[?25l  Downloading https://files.pythonhosted.org/packages/a6/21/9055a739fbe7b22a8e99e42906f2c75ba02bab9fd193a85837cd1d6e55d3/github3.py-1.3.0-py2.py3-none-any.whl (153kB)\n",
      "\u001b[K     |████████████████████████████████| 153kB 242kB/s eta 0:00:01    |████▎                           | 20kB 262kB/s eta 0:00:01\n",
      "\u001b[?25hRequirement already satisfied: certifi>=2017.4.17 in /anaconda3/envs/mlsa/lib/python3.7/site-packages (from requests->sentinelsat->-r install.txt (line 2)) (2019.6.16)\n",
      "Requirement already satisfied: chardet<3.1.0,>=3.0.2 in /anaconda3/envs/mlsa/lib/python3.7/site-packages (from requests->sentinelsat->-r install.txt (line 2)) (3.0.4)\n",
      "Requirement already satisfied: idna<2.9,>=2.5 in /anaconda3/envs/mlsa/lib/python3.7/site-packages (from requests->sentinelsat->-r install.txt (line 2)) (2.8)\n",
      "Requirement already satisfied: urllib3!=1.25.0,!=1.25.1,<1.26,>=1.21.1 in /anaconda3/envs/mlsa/lib/python3.7/site-packages (from requests->sentinelsat->-r install.txt (line 2)) (1.25.3)\n",
      "Requirement already satisfied: pytz>=2017.2 in /anaconda3/envs/mlsa/lib/python3.7/site-packages (from pandas->geopandas->-r install.txt (line 3)) (2019.2)\n",
      "Requirement already satisfied: python-dateutil>=2.6.1 in /anaconda3/envs/mlsa/lib/python3.7/site-packages (from pandas->geopandas->-r install.txt (line 3)) (2.8.0)\n",
      "Requirement already satisfied: munch in /anaconda3/envs/mlsa/lib/python3.7/site-packages (from fiona->geopandas->-r install.txt (line 3)) (2.3.2)\n",
      "Requirement already satisfied: cligj>=0.5 in /anaconda3/envs/mlsa/lib/python3.7/site-packages (from fiona->geopandas->-r install.txt (line 3)) (0.5.0)\n",
      "Requirement already satisfied: click-plugins>=1.0 in /anaconda3/envs/mlsa/lib/python3.7/site-packages (from fiona->geopandas->-r install.txt (line 3)) (1.1.1)\n",
      "Requirement already satisfied: attrs>=17 in /anaconda3/envs/mlsa/lib/python3.7/site-packages (from fiona->geopandas->-r install.txt (line 3)) (19.1.0)\n",
      "Requirement already satisfied: MarkupSafe>=0.23 in /anaconda3/envs/mlsa/lib/python3.7/site-packages (from jinja2>=2.9->folium->-r install.txt (line 4)) (1.1.1)\n",
      "Collecting uritemplate>=3.0.0 (from github3.py->geojsonio->-r install.txt (line 5))\n",
      "  Downloading https://files.pythonhosted.org/packages/e5/7d/9d5a640c4f8bf2c8b1afc015e9a9d8de32e13c9016dcc4b0ec03481fb396/uritemplate-3.0.0-py2.py3-none-any.whl\n",
      "Collecting jwcrypto>=0.5.0 (from github3.py->geojsonio->-r install.txt (line 5))\n",
      "\u001b[?25l  Downloading https://files.pythonhosted.org/packages/f0/0d/00173a6aee1025e529b21c365182c8d06e78b1beb98d5633f841da6f122e/jwcrypto-0.6.0-py2.py3-none-any.whl (73kB)\n",
      "\u001b[K     |████████████████████████████████| 81kB 4.5MB/s eta 0:00:011\n",
      "\u001b[?25hRequirement already satisfied: cryptography>=1.5 in /anaconda3/envs/mlsa/lib/python3.7/site-packages (from jwcrypto>=0.5.0->github3.py->geojsonio->-r install.txt (line 5)) (2.7)\n",
      "Requirement already satisfied: asn1crypto>=0.21.0 in /anaconda3/envs/mlsa/lib/python3.7/site-packages (from cryptography>=1.5->jwcrypto>=0.5.0->github3.py->geojsonio->-r install.txt (line 5)) (0.24.0)\n",
      "Requirement already satisfied: cffi!=1.11.3,>=1.8 in /anaconda3/envs/mlsa/lib/python3.7/site-packages (from cryptography>=1.5->jwcrypto>=0.5.0->github3.py->geojsonio->-r install.txt (line 5)) (1.12.3)\n",
      "Requirement already satisfied: pycparser in /anaconda3/envs/mlsa/lib/python3.7/site-packages (from cffi!=1.11.3,>=1.8->cryptography>=1.5->jwcrypto>=0.5.0->github3.py->geojsonio->-r install.txt (line 5)) (2.19)\n",
      "Building wheels for collected packages: geojsonio\n",
      "  Building wheel for geojsonio (setup.py) ... \u001b[?25ldone\n",
      "\u001b[?25h  Stored in directory: /Users/yuanwenliang/Library/Caches/pip/wheels/a9/ef/7c/7bbf228825e8717adaa84cd4b6c4ed8649b7958dd2bac45076\n",
      "Successfully built geojsonio\n",
      "Installing collected packages: uritemplate, jwcrypto, github3.py, geojsonio\n",
      "Successfully installed geojsonio-0.0.3 github3.py-1.3.0 jwcrypto-0.6.0 uritemplate-3.0.0\n",
      "Note: you may need to restart the kernel to use updated packages.\n"
     ]
    }
   ],
   "source": [
    "pip install -r requirements.txt"
   ]
  },
  {
   "cell_type": "markdown",
   "metadata": {},
   "source": [
    "## Accessing data from Copernicus straight away"
   ]
  },
  {
   "cell_type": "code",
   "execution_count": 2,
   "metadata": {},
   "outputs": [],
   "source": [
    "from sentinelsat import SentinelAPI\n",
    "\n",
    "user = 'phoebe0222' \n",
    "password = 'Lyw12345' \n",
    "api = SentinelAPI(user, password, 'https://scihub.copernicus.eu/dhus')"
   ]
  },
  {
   "cell_type": "code",
   "execution_count": 25,
   "metadata": {},
   "outputs": [
    {
     "data": {
      "text/plain": [
       "<folium.features.GeoJson at 0x11895d790>"
      ]
     },
     "execution_count": 25,
     "metadata": {},
     "output_type": "execute_result"
    }
   ],
   "source": [
    "import geopandas as gpd\n",
    "import folium \n",
    "\n",
    "poly = gpd.read_file('data/sentinel-2a-tile-7680x-10240y/geometry/file-x7680-y10240.geojson')\n",
    "\n",
    "m = folium.Map([-20.384985615979,148.48600839605], zoom_start=12)\n",
    "folium.GeoJson(poly).add_to(m)\n",
    "#m"
   ]
  },
  {
   "cell_type": "code",
   "execution_count": 27,
   "metadata": {},
   "outputs": [
    {
     "data": {
      "text/plain": [
       "'http://geojson.io/#data=data:application/json,%7B%22type%22%3A%20%22FeatureCollection%22%2C%20%22features%22%3A%20%5B%7B%22type%22%3A%20%22Feature%22%2C%20%22geometry%22%3A%20%7B%22type%22%3A%20%22FeatureCollection%22%2C%20%22features%22%3A%20%5B%7B%22id%22%3A%20%220%22%2C%20%22type%22%3A%20%22Feature%22%2C%20%22properties%22%3A%20%7B%7D%2C%20%22geometry%22%3A%20%7B%22type%22%3A%20%22Polygon%22%2C%20%22coordinates%22%3A%20%5B%5B%5B148.6944397598344%2C%20-20.812410418698178%5D%2C%20%5B148.74333456126712%2C%20-20.81200398167918%5D%2C%20%5B148.7436204982643%2C%20-20.858263265061037%5D%2C%20%5B148.6947256968316%2C%20-20.858669702080036%5D%2C%20%5B148.6944397598344%2C%20-20.812410418698178%5D%5D%5D%7D%2C%20%22bbox%22%3A%20%5B148.6944397598344%2C%20-20.858669702080036%2C%20148.7436204982643%2C%20-20.81200398167918%5D%7D%5D%2C%20%22bbox%22%3A%20%5B148.6944397598344%2C%20-20.858669702080036%2C%20148.7436204982643%2C%20-20.81200398167918%5D%7D%7D%5D%7D'"
      ]
     },
     "execution_count": 27,
     "metadata": {},
     "output_type": "execute_result"
    }
   ],
   "source": [
    "import geojsonio\n",
    "geojsonio.display(poly)"
   ]
  },
  {
   "cell_type": "code",
   "execution_count": null,
   "metadata": {},
   "outputs": [],
   "source": []
  }
 ],
 "metadata": {
  "kernelspec": {
   "display_name": "mlsa",
   "language": "python",
   "name": "mlsa"
  },
  "language_info": {
   "codemirror_mode": {
    "name": "ipython",
    "version": 3
   },
   "file_extension": ".py",
   "mimetype": "text/x-python",
   "name": "python",
   "nbconvert_exporter": "python",
   "pygments_lexer": "ipython3",
   "version": "3.7.4"
  }
 },
 "nbformat": 4,
 "nbformat_minor": 2
}
