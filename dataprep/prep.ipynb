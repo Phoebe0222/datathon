{
 "cells": [
  {
   "cell_type": "code",
   "execution_count": 2,
   "metadata": {},
   "outputs": [
    {
     "name": "stdout",
     "output_type": "stream",
     "text": [
      "Requirement already satisfied: Pillow in /anaconda3/envs/mlsa/lib/python3.7/site-packages (from -r install.txt (line 1)) (6.1.0)\n",
      "Note: you may need to restart the kernel to use updated packages.\n"
     ]
    }
   ],
   "source": [
    "pip install -r install.txt"
   ]
  },
  {
   "cell_type": "code",
   "execution_count": null,
   "metadata": {},
   "outputs": [],
   "source": []
  },
  {
   "cell_type": "code",
   "execution_count": null,
   "metadata": {},
   "outputs": [],
   "source": [
    "from PIL import Image, ImageDraw\n",
    "import glob\n",
    "import os\n",
    "\n",
    "# The initial release contains only one tile, so lets hardcode its location\n",
    "# here.  When you have more tiles, you can update this\n",
    "TILE_X = 7680\n",
    "TILE_Y = 10240\n",
    "\n",
    "# The expected value of a Pixel in a mask file indicating that the pixel is\n",
    "# within that region.  Tuple value, (Red, Green, Blue, Alpha)\n",
    "IS_IN_MASK_PIXEL_VALUE = (0, 0, 0, 255)\n",
    "\n",
    "# Tile width / height in pixels\n",
    "TILE_WIDTH_PX = 512\n",
    "TILE_HEIGHT_PX = 512\n",
    "\n",
    "# Get the physical path to the PNG image containing the mask file\n",
    "def get_mask_path(tile_x, tile_y, mask_type):\n",
    "    path = f\"./data/sentinel-2a-tile-{tile_x}x-{tile_y}y/masks/{mask_type}-mask.png\"\n",
    "    return path\n",
    "\n",
    "\n",
    "# Open an image file and get all the pixels\n",
    "def get_tile_pixels(tile_path):\n",
    "    img = Image.open(tile_path)\n",
    "    pixels = img.load()\n",
    "    return pixels\n",
    "\n",
    "\n",
    "# Get the pixels for an image file\n",
    "def get_mask_pixels(tile_x, tile_y, mask_type):\n",
    "    mask_path = get_mask_path(tile_x, tile_y, mask_type)\n",
    "    return get_tile_pixels(mask_path)\n",
    "\n",
    "\n",
    "def is_in_mask(mask_pixels, pixel_x, pixel_y):\n",
    "    if mask_pixels[pixel_y, pixel_x] == IS_IN_MASK_PIXEL_VALUE:\n",
    "        return True\n",
    "    else:\n",
    "        return False\n",
    "\n",
    "\n",
    "def print_ascii_mask(tile_x, tile_y, mask_type):\n",
    "    mask_pixels = get_mask_pixels(tile_x, tile_y, mask_type)\n",
    "\n",
    "    # We don't really want to display ASCII art that is 512 characters long as it will be\n",
    "    # too long to show in a terminal, so lets scale it\n",
    "    scale_factor = 10\n",
    "\n",
    "    width_in_chars = int(TILE_WIDTH_PX / scale_factor)\n",
    "    height_in_chars = int(TILE_HEIGHT_PX / scale_factor)\n",
    "\n",
    "    for x_char in range(0, width_in_chars - 1):\n",
    "        for y_char in range(0, height_in_chars - 1):\n",
    "            # Convert the character index back to actual pixels\n",
    "            pixel_x = x_char * scale_factor\n",
    "            pixel_y = y_char * scale_factor\n",
    "\n",
    "            # is the pixel in my mask?\n",
    "            in_mask = is_in_mask(mask_pixels, pixel_x, pixel_y)\n",
    "            if in_mask:\n",
    "                print(\"X\", end=\"\")\n",
    "            else:\n",
    "                print(\" \", end=\"\")\n",
    "\n",
    "        # Print a newline at the end of each row\n",
    "        print(\"\\n\", end=\"\")\n",
    "\n",
    "\n",
    "# Get a list of all the image tiles for a specific x,y coordinate\n",
    "# for the specified band\n",
    "def get_timeseries_image_paths(tile_x, tile_y, band):\n",
    "    path = f\"./data/sentinel-2a-tile-{tile_x}x-{tile_y}y/timeseries/{tile_x}-{tile_y}-{band}*.png\"\n",
    "    images = glob.glob(path)\n",
    "    return images\n",
    "\n",
    "\n",
    "# Print out an ascii representation of the sugarcane regions\n",
    "print_ascii_mask(TILE_X, TILE_Y, \"sugarcane-region\")\n",
    "\n"
   ]
  }
 ],
 "metadata": {
  "kernelspec": {
   "display_name": "mlsa",
   "language": "python",
   "name": "mlsa"
  },
  "language_info": {
   "codemirror_mode": {
    "name": "ipython",
    "version": 3
   },
   "file_extension": ".py",
   "mimetype": "text/x-python",
   "name": "python",
   "nbconvert_exporter": "python",
   "pygments_lexer": "ipython3",
   "version": "3.7.4"
  }
 },
 "nbformat": 4,
 "nbformat_minor": 2
}
