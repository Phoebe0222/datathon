{
 "cells": [
  {
   "cell_type": "code",
   "execution_count": 23,
   "metadata": {
    "collapsed": true
   },
   "outputs": [
    {
     "name": "stdout",
     "output_type": "stream",
     "text": [
      "Requirement already satisfied: Pillow in /anaconda3/envs/mlsa/lib/python3.7/site-packages (from -r install.txt (line 1)) (6.1.0)\n",
      "Requirement already satisfied: sentinelsat in /anaconda3/envs/mlsa/lib/python3.7/site-packages (from -r install.txt (line 2)) (0.13)\n",
      "Requirement already satisfied: geopandas in /anaconda3/envs/mlsa/lib/python3.7/site-packages (from -r install.txt (line 3)) (0.5.1)\n",
      "Requirement already satisfied: folium in /anaconda3/envs/mlsa/lib/python3.7/site-packages (from -r install.txt (line 4)) (0.10.0)\n",
      "Collecting geojsonio (from -r install.txt (line 5))\n",
      "  Downloading https://files.pythonhosted.org/packages/7f/42/a773a4d4a6a78261dce418269cd017d8ff401206bc5724d9390084ebbf3d/geojsonio-0.0.3.tar.gz\n",
      "Requirement already satisfied: geojson>=2 in /anaconda3/envs/mlsa/lib/python3.7/site-packages (from sentinelsat->-r install.txt (line 2)) (2.5.0)\n",
      "Requirement already satisfied: tqdm in /anaconda3/envs/mlsa/lib/python3.7/site-packages (from sentinelsat->-r install.txt (line 2)) (4.35.0)\n",
      "Requirement already satisfied: click in /anaconda3/envs/mlsa/lib/python3.7/site-packages (from sentinelsat->-r install.txt (line 2)) (7.0)\n",
      "Requirement already satisfied: requests in /anaconda3/envs/mlsa/lib/python3.7/site-packages (from sentinelsat->-r install.txt (line 2)) (2.22.0)\n",
      "Requirement already satisfied: six in /anaconda3/envs/mlsa/lib/python3.7/site-packages (from sentinelsat->-r install.txt (line 2)) (1.12.0)\n",
      "Requirement already satisfied: html2text in /anaconda3/envs/mlsa/lib/python3.7/site-packages (from sentinelsat->-r install.txt (line 2)) (2019.8.11)\n",
      "Requirement already satisfied: geomet in /anaconda3/envs/mlsa/lib/python3.7/site-packages (from sentinelsat->-r install.txt (line 2)) (0.2.1)\n",
      "Requirement already satisfied: pandas in /anaconda3/envs/mlsa/lib/python3.7/site-packages (from geopandas->-r install.txt (line 3)) (0.25.0)\n",
      "Requirement already satisfied: fiona in /anaconda3/envs/mlsa/lib/python3.7/site-packages (from geopandas->-r install.txt (line 3)) (1.8.6)\n",
      "Requirement already satisfied: pyproj in /anaconda3/envs/mlsa/lib/python3.7/site-packages (from geopandas->-r install.txt (line 3)) (2.3.1)\n",
      "Requirement already satisfied: shapely in /anaconda3/envs/mlsa/lib/python3.7/site-packages (from geopandas->-r install.txt (line 3)) (1.6.4.post2)\n",
      "Requirement already satisfied: branca>=0.3.0 in /anaconda3/envs/mlsa/lib/python3.7/site-packages (from folium->-r install.txt (line 4)) (0.3.1)\n",
      "Requirement already satisfied: numpy in /anaconda3/envs/mlsa/lib/python3.7/site-packages (from folium->-r install.txt (line 4)) (1.16.4)\n",
      "Requirement already satisfied: jinja2>=2.9 in /anaconda3/envs/mlsa/lib/python3.7/site-packages (from folium->-r install.txt (line 4)) (2.10.1)\n",
      "Collecting github3.py (from geojsonio->-r install.txt (line 5))\n",
      "\u001b[?25l  Downloading https://files.pythonhosted.org/packages/a6/21/9055a739fbe7b22a8e99e42906f2c75ba02bab9fd193a85837cd1d6e55d3/github3.py-1.3.0-py2.py3-none-any.whl (153kB)\n",
      "\u001b[K     |████████████████████████████████| 153kB 242kB/s eta 0:00:01    |████▎                           | 20kB 262kB/s eta 0:00:01\n",
      "\u001b[?25hRequirement already satisfied: certifi>=2017.4.17 in /anaconda3/envs/mlsa/lib/python3.7/site-packages (from requests->sentinelsat->-r install.txt (line 2)) (2019.6.16)\n",
      "Requirement already satisfied: chardet<3.1.0,>=3.0.2 in /anaconda3/envs/mlsa/lib/python3.7/site-packages (from requests->sentinelsat->-r install.txt (line 2)) (3.0.4)\n",
      "Requirement already satisfied: idna<2.9,>=2.5 in /anaconda3/envs/mlsa/lib/python3.7/site-packages (from requests->sentinelsat->-r install.txt (line 2)) (2.8)\n",
      "Requirement already satisfied: urllib3!=1.25.0,!=1.25.1,<1.26,>=1.21.1 in /anaconda3/envs/mlsa/lib/python3.7/site-packages (from requests->sentinelsat->-r install.txt (line 2)) (1.25.3)\n",
      "Requirement already satisfied: pytz>=2017.2 in /anaconda3/envs/mlsa/lib/python3.7/site-packages (from pandas->geopandas->-r install.txt (line 3)) (2019.2)\n",
      "Requirement already satisfied: python-dateutil>=2.6.1 in /anaconda3/envs/mlsa/lib/python3.7/site-packages (from pandas->geopandas->-r install.txt (line 3)) (2.8.0)\n",
      "Requirement already satisfied: munch in /anaconda3/envs/mlsa/lib/python3.7/site-packages (from fiona->geopandas->-r install.txt (line 3)) (2.3.2)\n",
      "Requirement already satisfied: cligj>=0.5 in /anaconda3/envs/mlsa/lib/python3.7/site-packages (from fiona->geopandas->-r install.txt (line 3)) (0.5.0)\n",
      "Requirement already satisfied: click-plugins>=1.0 in /anaconda3/envs/mlsa/lib/python3.7/site-packages (from fiona->geopandas->-r install.txt (line 3)) (1.1.1)\n",
      "Requirement already satisfied: attrs>=17 in /anaconda3/envs/mlsa/lib/python3.7/site-packages (from fiona->geopandas->-r install.txt (line 3)) (19.1.0)\n",
      "Requirement already satisfied: MarkupSafe>=0.23 in /anaconda3/envs/mlsa/lib/python3.7/site-packages (from jinja2>=2.9->folium->-r install.txt (line 4)) (1.1.1)\n",
      "Collecting uritemplate>=3.0.0 (from github3.py->geojsonio->-r install.txt (line 5))\n",
      "  Downloading https://files.pythonhosted.org/packages/e5/7d/9d5a640c4f8bf2c8b1afc015e9a9d8de32e13c9016dcc4b0ec03481fb396/uritemplate-3.0.0-py2.py3-none-any.whl\n",
      "Collecting jwcrypto>=0.5.0 (from github3.py->geojsonio->-r install.txt (line 5))\n",
      "\u001b[?25l  Downloading https://files.pythonhosted.org/packages/f0/0d/00173a6aee1025e529b21c365182c8d06e78b1beb98d5633f841da6f122e/jwcrypto-0.6.0-py2.py3-none-any.whl (73kB)\n",
      "\u001b[K     |████████████████████████████████| 81kB 4.5MB/s eta 0:00:011\n",
      "\u001b[?25hRequirement already satisfied: cryptography>=1.5 in /anaconda3/envs/mlsa/lib/python3.7/site-packages (from jwcrypto>=0.5.0->github3.py->geojsonio->-r install.txt (line 5)) (2.7)\n",
      "Requirement already satisfied: asn1crypto>=0.21.0 in /anaconda3/envs/mlsa/lib/python3.7/site-packages (from cryptography>=1.5->jwcrypto>=0.5.0->github3.py->geojsonio->-r install.txt (line 5)) (0.24.0)\n",
      "Requirement already satisfied: cffi!=1.11.3,>=1.8 in /anaconda3/envs/mlsa/lib/python3.7/site-packages (from cryptography>=1.5->jwcrypto>=0.5.0->github3.py->geojsonio->-r install.txt (line 5)) (1.12.3)\n",
      "Requirement already satisfied: pycparser in /anaconda3/envs/mlsa/lib/python3.7/site-packages (from cffi!=1.11.3,>=1.8->cryptography>=1.5->jwcrypto>=0.5.0->github3.py->geojsonio->-r install.txt (line 5)) (2.19)\n",
      "Building wheels for collected packages: geojsonio\n",
      "  Building wheel for geojsonio (setup.py) ... \u001b[?25ldone\n",
      "\u001b[?25h  Stored in directory: /Users/yuanwenliang/Library/Caches/pip/wheels/a9/ef/7c/7bbf228825e8717adaa84cd4b6c4ed8649b7958dd2bac45076\n",
      "Successfully built geojsonio\n",
      "Installing collected packages: uritemplate, jwcrypto, github3.py, geojsonio\n",
      "Successfully installed geojsonio-0.0.3 github3.py-1.3.0 jwcrypto-0.6.0 uritemplate-3.0.0\n",
      "Note: you may need to restart the kernel to use updated packages.\n"
     ]
    }
   ],
   "source": [
    "pip install -r install.txt"
   ]
  },
  {
   "cell_type": "markdown",
   "metadata": {},
   "source": [
    "## Creating Area of Interest (AOI)\n",
    "\n",
    "**Important: the way load() in Image moudlue is weriod. It doesn't follow the convention that in (i,j), i reprensents row and j reprensents column. It's other way round.**"
   ]
  },
  {
   "cell_type": "code",
   "execution_count": 252,
   "metadata": {},
   "outputs": [
    {
     "name": "stdout",
     "output_type": "stream",
     "text": [
      "0 0\n",
      "(0, 0, 0, 0)\n",
      "0 1\n",
      "(0, 0, 0, 255)\n",
      "1 0\n",
      "(255, 255, 255, 255)\n",
      "1 1\n",
      "(123, 123, 123, 255)\n"
     ]
    }
   ],
   "source": [
    "from PIL import Image, ImageDraw\n",
    "test = Image.new(\"RGBA\", (2, 2))\n",
    "test.putdata([(0,0,0,0),(255,255,255,255),(0,0,0,255),(123,123,123,255)])\n",
    "\n",
    "for i in range(2):\n",
    "    for j in range(2):\n",
    "        print(i,j)\n",
    "        print(test.load()[i,j])\n",
    "\n",
    "#test.show()"
   ]
  },
  {
   "cell_type": "code",
   "execution_count": 5,
   "metadata": {
    "scrolled": true
   },
   "outputs": [
    {
     "ename": "SyntaxError",
     "evalue": "invalid syntax (<ipython-input-5-66b1417028c7>, line 71)",
     "output_type": "error",
     "traceback": [
      "\u001b[0;36m  File \u001b[0;32m\"<ipython-input-5-66b1417028c7>\"\u001b[0;36m, line \u001b[0;32m71\u001b[0m\n\u001b[0;31m    if mode = \"RGB\" or \"RGBA\":\u001b[0m\n\u001b[0m            ^\u001b[0m\n\u001b[0;31mSyntaxError\u001b[0m\u001b[0;31m:\u001b[0m invalid syntax\n"
     ]
    }
   ],
   "source": [
    "from PIL import Image, ImageDraw\n",
    "import glob\n",
    "import os\n",
    "import numpy as np\n",
    "\n",
    "# The initial release contains only one tile, so lets hardcode its location\n",
    "# here.  When you have more tiles, you can update this\n",
    "TILE_X = 7680\n",
    "TILE_Y = 10240\n",
    "\n",
    "# The expected value of a Pixel in a mask file indicating that the pixel is\n",
    "# within that region.  Tuple value, (Red, Green, Blue, Alpha)\n",
    "IS_IN_MASK_PIXEL_VALUE = (0, 0, 0, 255)\n",
    "\n",
    "# Tile width / height in pixels\n",
    "\n",
    "TILE_WIDTH_PX = 512\n",
    "TILE_HEIGHT_PX = 512\n",
    "\n",
    "# Get the physical path to the PNG image containing the mask file\n",
    "def get_mask_path(tile_x, tile_y, mask_type): #mask_type is sugarcane-region coz it's in the file name\n",
    "    path = f\"./data/sentinel-2a-tile-{tile_x}x-{tile_y}y/masks/{mask_type}-mask.png\"\n",
    "    return path\n",
    "\n",
    "\n",
    "# Get a list of all the image tiles for a specific x,y coordinate\n",
    "# for the specified band\n",
    "def get_timeseries_image_paths(tile_x, tile_y, band, date):\n",
    "    path = f\"./data/sentinel-2a-tile-{tile_x}x-{tile_y}y/timeseries/{tile_x}-{tile_y}-{band}-{date}.png\"\n",
    "    #path = glob.glob(path)\n",
    "    #path = path[0] # get the first date \n",
    "    return path \n",
    "\n",
    "\n",
    "# Open an image file and get all the pixels, be careful of the x,y swaps\n",
    "def get_image_pixels(path):\n",
    "    img = Image.open(path)\n",
    "    pixels = img.load() \n",
    "    return pixels\n",
    "\n",
    "def pixels_swap(pixels,pixel_x,pixel_y):\n",
    "    pixels[pixel_x,pixel_y] = pixels[pixel_y,pixel_x]\n",
    "    return pixels\n",
    "    \n",
    "def is_in_mask(mask_pixels, pixel_x, pixel_y):\n",
    "    if mask_pixels[pixel_x,pixel_y] == IS_IN_MASK_PIXEL_VALUE: # the pixel in the mask file is black \n",
    "        return True \n",
    "    else:\n",
    "        return False\n",
    "\n",
    "    \n",
    "def get_cropped_pixels(tile_x, tile_y, mask_type, band, date):\n",
    "    \n",
    "    # get the pixels from mask and image \n",
    "    mask_pixels = get_image_pixels(get_mask_path(tile_x, tile_y, mask_type))\n",
    "    image_pixels = get_image_pixels(get_timeseries_image_paths(tile_x, tile_y, band, date))\n",
    "    \n",
    "    \n",
    "    width = TILE_WIDTH_PX \n",
    "    height = TILE_HEIGHT_PX \n",
    "    mode = Image.open(get_timeseries_image_paths(tile_x, tile_y, band, date)).mode\n",
    "\n",
    "    for x in range(0, width):\n",
    "        for y in range(0, height):\n",
    "\n",
    "            # is the pixel in my mask?\n",
    "            in_mask = is_in_mask(mask_pixels, x, y)\n",
    "            if in_mask:\n",
    "                pass\n",
    "            else:\n",
    "                if mode = \"RGB\" or \"RGBA\":\n",
    "                    image_pixels[x,y] = (0,0,0,0) #if not in mask, change to transparent\n",
    "                else:\n",
    "                    image_pixels[x,y] = 0\n",
    "    \n",
    "    cropped_pixels = image_pixels\n",
    "    return cropped_pixels\n",
    "    \n",
    "\n",
    "def sequence_cropped_pixels(tile_x, tile_y, mask_type, band, date):\n",
    "    \n",
    "    # get the pixels from cropped\n",
    "    cropped_pixels = get_cropped_pixels(tile_x, tile_y, mask_type, band, date)\n",
    "\n",
    "    cropped_sequence = []\n",
    "    \n",
    "    width = TILE_WIDTH_PX \n",
    "    height = TILE_HEIGHT_PX \n",
    "    for i in range(0, width):\n",
    "        for j in range(0, height):\n",
    "            cropped_sequence.append(cropped_pixels[j,i]) \n",
    "            # flipping the image coz of the way load() reads pixels\n",
    "    return cropped_sequence\n",
    "\n",
    "\n",
    "\n",
    "def save_cropped(tile_x, tile_y, mask_type, band, date):\n",
    "    cropped = Image.new(\"RGBA\", (512, 512))\n",
    "    cropped.putdata(sequence_cropped_pixels(tile_x, tile_y, mask_type, band, date))\n",
    "    cropped.save(f'./data/sentinel-2a-tile-{tile_x}x-{tile_y}y/cropped/cropped-{tile_x}-{tile_y}-{band}-{date}.png','PNG')\n",
    "    return cropped\n",
    "\n",
    "# print_ascii_mask doesn't really do anything useful other than showing some masks\n",
    "def print_ascii_mask(tile_x, tile_y, mask_type):\n",
    "    mask_pixels = get_image_pixels(get_mask_path(tile_x, tile_y, mask_type))\n",
    "\n",
    "    # We don't really want to display ASCII art that is 512 characters long as it will be\n",
    "    # too long to show in a terminal, so lets scale it\n",
    "    scale_factor = 10\n",
    "\n",
    "    width_in_chars = int(TILE_WIDTH_PX / scale_factor)\n",
    "    height_in_chars = int(TILE_HEIGHT_PX / scale_factor)\n",
    "\n",
    "    for y_char in range(0, width_in_chars):\n",
    "        for x_char in range(0, height_in_chars):\n",
    "            # Convert the character index back to actual pixels\n",
    "            pixel_x = x_char * scale_factor\n",
    "            pixel_y = y_char * scale_factor\n",
    "\n",
    "            # is the pixel in my mask?\n",
    "            in_mask = is_in_mask(mask_pixels, pixel_x, pixel_y)\n",
    "            if in_mask:\n",
    "                print(\"X\", end=\"\")\n",
    "            else:\n",
    "                print(\" \", end=\"\")\n",
    "\n",
    "        # Print a newline at the end of each row\n",
    "        print(\"\\n\", end=\"\")\n"
   ]
  },
  {
   "cell_type": "code",
   "execution_count": 6,
   "metadata": {},
   "outputs": [
    {
     "ename": "NameError",
     "evalue": "name 'save_cropped' is not defined",
     "output_type": "error",
     "traceback": [
      "\u001b[0;31m---------------------------------------------------------------------------\u001b[0m",
      "\u001b[0;31mNameError\u001b[0m                                 Traceback (most recent call last)",
      "\u001b[0;32m<ipython-input-6-e61d20419e36>\u001b[0m in \u001b[0;36m<module>\u001b[0;34m\u001b[0m\n\u001b[1;32m      3\u001b[0m \u001b[0;31m#full.show()\u001b[0m\u001b[0;34m\u001b[0m\u001b[0;34m\u001b[0m\u001b[0;34m\u001b[0m\u001b[0m\n\u001b[1;32m      4\u001b[0m \u001b[0;31m#mask.show()\u001b[0m\u001b[0;34m\u001b[0m\u001b[0;34m\u001b[0m\u001b[0;34m\u001b[0m\u001b[0m\n\u001b[0;32m----> 5\u001b[0;31m \u001b[0msave_cropped\u001b[0m\u001b[0;34m(\u001b[0m\u001b[0mTILE_X\u001b[0m\u001b[0;34m,\u001b[0m \u001b[0mTILE_Y\u001b[0m\u001b[0;34m,\u001b[0m \u001b[0mmask_type\u001b[0m\u001b[0;34m=\u001b[0m\u001b[0;34m\"sugarcane-region\"\u001b[0m\u001b[0;34m,\u001b[0m \u001b[0mband\u001b[0m\u001b[0;34m=\u001b[0m\u001b[0;34m'B04'\u001b[0m\u001b[0;34m,\u001b[0m \u001b[0mdate\u001b[0m \u001b[0;34m=\u001b[0m \u001b[0;34m'2016-12-22'\u001b[0m\u001b[0;34m)\u001b[0m\u001b[0;34m\u001b[0m\u001b[0;34m\u001b[0m\u001b[0m\n\u001b[0m",
      "\u001b[0;31mNameError\u001b[0m: name 'save_cropped' is not defined"
     ]
    }
   ],
   "source": [
    "#full = Image.open(get_timeseries_image_paths(TILE_X, TILE_Y, 'TCI','2016-12-22'))\n",
    "#mask = Image.open(get_mask_path(TILE_X, TILE_Y, mask_type=\"sugarcane-region\"))\n",
    "#full.show()\n",
    "#mask.show()\n",
    "save_cropped(TILE_X, TILE_Y, mask_type=\"sugarcane-region\", band='B04', date = '2016-12-22')"
   ]
  },
  {
   "cell_type": "code",
   "execution_count": 16,
   "metadata": {},
   "outputs": [
    {
     "name": "stdout",
     "output_type": "stream",
     "text": [
      "(512, 512, 4)\n"
     ]
    },
    {
     "data": {
      "image/png": "[encoded data removed]",
      "text/plain": [
       "<PIL.Image.Image image mode=RGBA size=512x512 at 0x11D32E310>"
      ]
     },
     "execution_count": 16,
     "metadata": {},
     "output_type": "execute_result"
    }
   ],
   "source": [
    "img = Image.open(get_mask_path(TILE_X, TILE_Y, mask_type=\"sugarcane-region\"))\n",
    "pixels = np.asarray(img)\n",
    "print(np.shape(pixels))\n",
    "im = Image.fromarray(np.uint8(pixels))\n",
    "im"
   ]
  },
  {
   "cell_type": "code",
   "execution_count": 25,
   "metadata": {},
   "outputs": [],
   "source": [
    "#save_cropped(TILE_X, TILE_Y, mask_type=\"sugarcane-region\", band='B04', date = '2016-12-22')\n",
    "pixels = get_image_pixels(get_timeseries_image_paths(TILE_X, TILE_Y, band='B04', date = '2016-12-22'))\n",
    "              "
   ]
  },
  {
   "cell_type": "code",
   "execution_count": null,
   "metadata": {},
   "outputs": [],
   "source": []
  }
 ],
 "metadata": {
  "kernelspec": {
   "display_name": "mlsa",
   "language": "python",
   "name": "mlsa"
  },
  "language_info": {
   "codemirror_mode": {
    "name": "ipython",
    "version": 3
   },
   "file_extension": ".py",
   "mimetype": "text/x-python",
   "name": "python",
   "nbconvert_exporter": "python",
   "pygments_lexer": "ipython3",
   "version": "3.7.4"
  }
 },
 "nbformat": 4,
 "nbformat_minor": 2
}
