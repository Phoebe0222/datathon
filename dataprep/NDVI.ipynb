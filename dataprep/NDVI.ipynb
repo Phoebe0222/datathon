{
 "cells": [
  {
   "cell_type": "code",
   "execution_count": 3,
   "metadata": {
    "collapsed": true
   },
   "outputs": [
    {
     "name": "stdout",
     "output_type": "stream",
     "text": [
      "Requirement already satisfied: Pillow in /anaconda3/envs/mlsa/lib/python3.7/site-packages (from -r install.txt (line 1)) (6.1.0)\n",
      "Requirement already satisfied: sentinelsat in /anaconda3/envs/mlsa/lib/python3.7/site-packages (from -r install.txt (line 2)) (0.13)\n",
      "Requirement already satisfied: geopandas in /anaconda3/envs/mlsa/lib/python3.7/site-packages (from -r install.txt (line 3)) (0.5.1)\n",
      "Requirement already satisfied: folium in /anaconda3/envs/mlsa/lib/python3.7/site-packages (from -r install.txt (line 4)) (0.10.0)\n",
      "Requirement already satisfied: geojsonio in /anaconda3/envs/mlsa/lib/python3.7/site-packages (from -r install.txt (line 5)) (0.0.3)\n",
      "Collecting rasterio (from -r install.txt (line 6))\n",
      "\u001b[?25l  Downloading https://files.pythonhosted.org/packages/83/e6/a1f98e9c13797f5428a33fa571eee158384e914f95b84cd2107dc9975dbd/rasterio-1.0.27-cp37-cp37m-macosx_10_6_intel.macosx_10_9_intel.macosx_10_9_x86_64.macosx_10_10_intel.macosx_10_10_x86_64.whl (23.6MB)\n",
      "\u001b[K     |████████████████████████████████| 23.6MB 19.9MB/s eta 0:00:01\n",
      "\u001b[?25hRequirement already satisfied: geomet in /anaconda3/envs/mlsa/lib/python3.7/site-packages (from sentinelsat->-r install.txt (line 2)) (0.2.1)\n",
      "Requirement already satisfied: six in /anaconda3/envs/mlsa/lib/python3.7/site-packages (from sentinelsat->-r install.txt (line 2)) (1.12.0)\n",
      "Requirement already satisfied: tqdm in /anaconda3/envs/mlsa/lib/python3.7/site-packages (from sentinelsat->-r install.txt (line 2)) (4.35.0)\n",
      "Requirement already satisfied: requests in /anaconda3/envs/mlsa/lib/python3.7/site-packages (from sentinelsat->-r install.txt (line 2)) (2.22.0)\n",
      "Requirement already satisfied: click in /anaconda3/envs/mlsa/lib/python3.7/site-packages (from sentinelsat->-r install.txt (line 2)) (7.0)\n",
      "Requirement already satisfied: geojson>=2 in /anaconda3/envs/mlsa/lib/python3.7/site-packages (from sentinelsat->-r install.txt (line 2)) (2.5.0)\n",
      "Requirement already satisfied: html2text in /anaconda3/envs/mlsa/lib/python3.7/site-packages (from sentinelsat->-r install.txt (line 2)) (2019.8.11)\n",
      "Requirement already satisfied: pandas in /anaconda3/envs/mlsa/lib/python3.7/site-packages (from geopandas->-r install.txt (line 3)) (0.25.0)\n",
      "Requirement already satisfied: fiona in /anaconda3/envs/mlsa/lib/python3.7/site-packages (from geopandas->-r install.txt (line 3)) (1.8.6)\n",
      "Requirement already satisfied: pyproj in /anaconda3/envs/mlsa/lib/python3.7/site-packages (from geopandas->-r install.txt (line 3)) (2.3.1)\n",
      "Requirement already satisfied: shapely in /anaconda3/envs/mlsa/lib/python3.7/site-packages (from geopandas->-r install.txt (line 3)) (1.6.4.post2)\n",
      "Requirement already satisfied: numpy in /anaconda3/envs/mlsa/lib/python3.7/site-packages (from folium->-r install.txt (line 4)) (1.16.4)\n",
      "Requirement already satisfied: branca>=0.3.0 in /anaconda3/envs/mlsa/lib/python3.7/site-packages (from folium->-r install.txt (line 4)) (0.3.1)\n",
      "Requirement already satisfied: jinja2>=2.9 in /anaconda3/envs/mlsa/lib/python3.7/site-packages (from folium->-r install.txt (line 4)) (2.10.1)\n",
      "Requirement already satisfied: github3.py in /anaconda3/envs/mlsa/lib/python3.7/site-packages (from geojsonio->-r install.txt (line 5)) (1.3.0)\n",
      "Collecting snuggs>=1.4.1 (from rasterio->-r install.txt (line 6))\n",
      "  Downloading https://files.pythonhosted.org/packages/58/14/8e90b7586ab6929861161e73e9fd55637a060e4d14dd1be14a4b8a08751f/snuggs-1.4.6-py3-none-any.whl\n",
      "Requirement already satisfied: cligj>=0.5 in /anaconda3/envs/mlsa/lib/python3.7/site-packages (from rasterio->-r install.txt (line 6)) (0.5.0)\n",
      "Requirement already satisfied: attrs in /anaconda3/envs/mlsa/lib/python3.7/site-packages (from rasterio->-r install.txt (line 6)) (19.1.0)\n",
      "Requirement already satisfied: click-plugins in /anaconda3/envs/mlsa/lib/python3.7/site-packages (from rasterio->-r install.txt (line 6)) (1.1.1)\n",
      "Collecting affine (from rasterio->-r install.txt (line 6))\n",
      "  Downloading https://files.pythonhosted.org/packages/ac/a6/1a39a1ede71210e3ddaf623982b06ecfc5c5c03741ae659073159184cd3e/affine-2.3.0-py2.py3-none-any.whl\n",
      "Requirement already satisfied: certifi>=2017.4.17 in /anaconda3/envs/mlsa/lib/python3.7/site-packages (from requests->sentinelsat->-r install.txt (line 2)) (2019.6.16)\n",
      "Requirement already satisfied: idna<2.9,>=2.5 in /anaconda3/envs/mlsa/lib/python3.7/site-packages (from requests->sentinelsat->-r install.txt (line 2)) (2.8)\n",
      "Requirement already satisfied: urllib3!=1.25.0,!=1.25.1,<1.26,>=1.21.1 in /anaconda3/envs/mlsa/lib/python3.7/site-packages (from requests->sentinelsat->-r install.txt (line 2)) (1.25.3)\n",
      "Requirement already satisfied: chardet<3.1.0,>=3.0.2 in /anaconda3/envs/mlsa/lib/python3.7/site-packages (from requests->sentinelsat->-r install.txt (line 2)) (3.0.4)\n",
      "Requirement already satisfied: pytz>=2017.2 in /anaconda3/envs/mlsa/lib/python3.7/site-packages (from pandas->geopandas->-r install.txt (line 3)) (2019.2)\n",
      "Requirement already satisfied: python-dateutil>=2.6.1 in /anaconda3/envs/mlsa/lib/python3.7/site-packages (from pandas->geopandas->-r install.txt (line 3)) (2.8.0)\n",
      "Requirement already satisfied: munch in /anaconda3/envs/mlsa/lib/python3.7/site-packages (from fiona->geopandas->-r install.txt (line 3)) (2.3.2)\n",
      "Requirement already satisfied: MarkupSafe>=0.23 in /anaconda3/envs/mlsa/lib/python3.7/site-packages (from jinja2>=2.9->folium->-r install.txt (line 4)) (1.1.1)\n",
      "Requirement already satisfied: jwcrypto>=0.5.0 in /anaconda3/envs/mlsa/lib/python3.7/site-packages (from github3.py->geojsonio->-r install.txt (line 5)) (0.6.0)\n",
      "Requirement already satisfied: uritemplate>=3.0.0 in /anaconda3/envs/mlsa/lib/python3.7/site-packages (from github3.py->geojsonio->-r install.txt (line 5)) (3.0.0)\n",
      "Requirement already satisfied: pyparsing>=2.1.6 in /anaconda3/envs/mlsa/lib/python3.7/site-packages (from snuggs>=1.4.1->rasterio->-r install.txt (line 6)) (2.4.2)\n",
      "Requirement already satisfied: cryptography>=1.5 in /anaconda3/envs/mlsa/lib/python3.7/site-packages (from jwcrypto>=0.5.0->github3.py->geojsonio->-r install.txt (line 5)) (2.7)\n",
      "Requirement already satisfied: cffi!=1.11.3,>=1.8 in /anaconda3/envs/mlsa/lib/python3.7/site-packages (from cryptography>=1.5->jwcrypto>=0.5.0->github3.py->geojsonio->-r install.txt (line 5)) (1.12.3)\n",
      "Requirement already satisfied: asn1crypto>=0.21.0 in /anaconda3/envs/mlsa/lib/python3.7/site-packages (from cryptography>=1.5->jwcrypto>=0.5.0->github3.py->geojsonio->-r install.txt (line 5)) (0.24.0)\n",
      "Requirement already satisfied: pycparser in /anaconda3/envs/mlsa/lib/python3.7/site-packages (from cffi!=1.11.3,>=1.8->cryptography>=1.5->jwcrypto>=0.5.0->github3.py->geojsonio->-r install.txt (line 5)) (2.19)\n",
      "Installing collected packages: snuggs, affine, rasterio\n",
      "Successfully installed affine-2.3.0 rasterio-1.0.27 snuggs-1.4.6\n",
      "Note: you may need to restart the kernel to use updated packages.\n"
     ]
    }
   ],
   "source": [
    "pip install -r install.txt"
   ]
  },
  {
   "cell_type": "markdown",
   "metadata": {},
   "source": [
    "## Vegetation Index\n",
    "### *Using NDVI (Normalized Difference Vegetation Index)\n",
    "\n",
    "To calculate the NDVI, we need Red band and Near-Infrared Band (NIR). Different satellite images assign different numbers for these bands. Sentinel Images have red in 4th band and NIR in the 8th band. The formula for NDVI calculation is:\n",
    "\n",
    "$$NDVI = \\frac{nir - red}{nir + red} $$\n",
    "\n",
    "\n"
   ]
  },
  {
   "cell_type": "code",
   "execution_count": 9,
   "metadata": {},
   "outputs": [],
   "source": [
    "import rasterio as rio\n",
    "import numpy as np\n",
    "from PIL import Image, ImageDraw\n",
    "import glob\n",
    "import os\n",
    "import numpy as np\n",
    "\n",
    "# The initial release contains only one tile, so lets hardcode its location\n",
    "# here.  When you have more tiles, you can update this\n",
    "TILE_X = 7680\n",
    "TILE_Y = 10240\n",
    "\n",
    "# The expected value of a Pixel in a mask file indicating that the pixel is\n",
    "# within that region.  Tuple value, (Red, Green, Blue, Alpha)\n",
    "IS_IN_MASK_PIXEL_VALUE = (0, 0, 0, 255)\n",
    "\n",
    "# Tile width / height in pixels\n",
    "\n",
    "TILE_WIDTH_PX = 512\n",
    "TILE_HEIGHT_PX = 512\n",
    "\n",
    "def get_timeseries_image_paths(tile_x, tile_y, band, date):\n",
    "    path = f\"./data/sentinel-2a-tile-{tile_x}x-{tile_y}y/timeseries/{tile_x}-{tile_y}-{band}-{date}.png\"\n",
    "    #path = glob.glob(path)\n",
    "    #path = path[0] # get the first date \n",
    "    return path \n",
    "\n",
    "def get_red(tile_x, tile_y, date):\n",
    "    band = 'B04'\n",
    "    path = get_timeseries_image_paths(tile_x, tile_y, band , date)\n",
    "    b4 = rio.open(path)\n",
    "    red = b4.read()\n",
    "    return red.astype(float)\n",
    "    \n",
    "def get_nir(tile_x, tile_y, date):\n",
    "    band = 'B08'\n",
    "    path = get_timeseries_image_paths(tile_x, tile_y, band, date)\n",
    "    b8 = rio.open(path)\n",
    "    nir = b8.read()\n",
    "    return nir.astype(float)\n",
    "\n",
    "def NDVI(tile_x, tile_y, date):\n",
    "    red = get_red(tile_x, tile_y, date)\n",
    "    nir = get_nir(tile_x, tile_y, date)\n",
    "    return (nir-red)/(nir+red)\n"
   ]
  },
  {
   "cell_type": "code",
   "execution_count": 33,
   "metadata": {},
   "outputs": [],
   "source": [
    "ndvi = NDVI(TILE_X, TILE_Y,'2016-12-22')\n",
    "b4 = rio.open(get_timeseries_image_paths(TILE_X, TILE_Y, band = 'B04', date='2016-12-22'))\n",
    "meta = b4.meta\n",
    "meta.update(driver='GTiff')\n",
    "meta.update(dtype=rio.float32)\n",
    "\n",
    "with rio.open('NDVI.tif', 'w', **meta) as dst:\n",
    "    dst.write(ndvi.astype(rio.float32))\n",
    "    \n",
    "img = Image.open('NDVI.tif')\n",
    "img.show()"
   ]
  },
  {
   "cell_type": "code",
   "execution_count": null,
   "metadata": {},
   "outputs": [],
   "source": []
  },
  {
   "cell_type": "code",
   "execution_count": null,
   "metadata": {},
   "outputs": [],
   "source": []
  }
 ],
 "metadata": {
  "kernelspec": {
   "display_name": "mlsa",
   "language": "python",
   "name": "mlsa"
  },
  "language_info": {
   "codemirror_mode": {
    "name": "ipython",
    "version": 3
   },
   "file_extension": ".py",
   "mimetype": "text/x-python",
   "name": "python",
   "nbconvert_exporter": "python",
   "pygments_lexer": "ipython3",
   "version": "3.7.4"
  }
 },
 "nbformat": 4,
 "nbformat_minor": 2
}
