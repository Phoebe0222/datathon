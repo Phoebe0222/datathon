{
 "cells": [
  {
   "cell_type": "markdown",
   "metadata": {},
   "source": [
    "# NEO DATA MANAGER"
   ]
  },
  {
   "cell_type": "code",
   "execution_count": 257,
   "metadata": {},
   "outputs": [],
   "source": [
    "import requests \n",
    "import json \n",
    "import pandas as pd\n",
    "from pandas.io.json import json_normalize\n",
    "\n",
    "API_URL = 'https://api.nasa.gov/neo/rest/v1/feed'\n",
    "API_PARAMS = '?start_date={}&end_date={}&api_key={}'\n",
    "\n",
    "#NASA only stores most recent 10 days of data\n",
    "start_date = '2019-09-01'\n",
    "end_date = '2019-09-07'\n",
    "\n",
    "api_url = API_URL + API_PARAMS.format(start_date,end_date,'KwRDL3x7w75naVBiJua5GmSpMEDn75yNMjMqacS8')\n",
    "\n",
    "response=requests.get(api_url)\n",
    "response.raise_for_status()\n",
    "neodata=json.loads(response.text)"
   ]
  },
  {
   "cell_type": "code",
   "execution_count": 271,
   "metadata": {},
   "outputs": [],
   "source": [
    "from flask import Flask\n",
    "app = Flask(__name__)\n",
    "\n",
    "@app.route(\"/output\")\n",
    "def output():\n",
    "    return \"Hello World!\""
   ]
  },
  {
   "cell_type": "markdown",
   "metadata": {},
   "source": [
    "# Approach 1\n",
    "\n",
    "#### It is much faster than approach 2 but requires modification to access close approach data"
   ]
  },
  {
   "cell_type": "code",
   "execution_count": 258,
   "metadata": {},
   "outputs": [
    {
     "name": "stdout",
     "output_type": "stream",
     "text": [
      "It has been 0.04986739158630371 seconds since the loop started\n",
      "(86, 17)\n"
     ]
    },
    {
     "data": {
      "text/html": [
       "<div>\n",
       "<style scoped>\n",
       "    .dataframe tbody tr th:only-of-type {\n",
       "        vertical-align: middle;\n",
       "    }\n",
       "\n",
       "    .dataframe tbody tr th {\n",
       "        vertical-align: top;\n",
       "    }\n",
       "\n",
       "    .dataframe thead th {\n",
       "        text-align: right;\n",
       "    }\n",
       "</style>\n",
       "<table border=\"1\" class=\"dataframe\">\n",
       "  <thead>\n",
       "    <tr style=\"text-align: right;\">\n",
       "      <th></th>\n",
       "      <th>id</th>\n",
       "      <th>neo_reference_id</th>\n",
       "      <th>name</th>\n",
       "      <th>nasa_jpl_url</th>\n",
       "      <th>absolute_magnitude_h</th>\n",
       "      <th>is_potentially_hazardous_asteroid</th>\n",
       "      <th>close_approach_data</th>\n",
       "      <th>is_sentry_object</th>\n",
       "      <th>links.self</th>\n",
       "      <th>estimated_diameter.kilometers.estimated_diameter_min</th>\n",
       "      <th>estimated_diameter.kilometers.estimated_diameter_max</th>\n",
       "      <th>estimated_diameter.meters.estimated_diameter_min</th>\n",
       "      <th>estimated_diameter.meters.estimated_diameter_max</th>\n",
       "      <th>estimated_diameter.miles.estimated_diameter_min</th>\n",
       "      <th>estimated_diameter.miles.estimated_diameter_max</th>\n",
       "      <th>estimated_diameter.feet.estimated_diameter_min</th>\n",
       "      <th>estimated_diameter.feet.estimated_diameter_max</th>\n",
       "    </tr>\n",
       "  </thead>\n",
       "  <tbody>\n",
       "    <tr>\n",
       "      <td>0</td>\n",
       "      <td>3843599</td>\n",
       "      <td>3843599</td>\n",
       "      <td>(2019 QL1)</td>\n",
       "      <td>http://ssd.jpl.nasa.gov/sbdb.cgi?sstr=3843599</td>\n",
       "      <td>22.900</td>\n",
       "      <td>False</td>\n",
       "      <td>[{'close_approach_date': '2019-09-05', 'close_...</td>\n",
       "      <td>False</td>\n",
       "      <td>http://www.neowsapp.com/rest/v1/neo/3843599?ap...</td>\n",
       "      <td>0.069913</td>\n",
       "      <td>0.156329</td>\n",
       "      <td>69.912523</td>\n",
       "      <td>156.329154</td>\n",
       "      <td>0.043442</td>\n",
       "      <td>0.097138</td>\n",
       "      <td>229.371803</td>\n",
       "      <td>512.890943</td>\n",
       "    </tr>\n",
       "    <tr>\n",
       "      <td>1</td>\n",
       "      <td>3843554</td>\n",
       "      <td>3843554</td>\n",
       "      <td>(2019 PA3)</td>\n",
       "      <td>http://ssd.jpl.nasa.gov/sbdb.cgi?sstr=3843554</td>\n",
       "      <td>21.196</td>\n",
       "      <td>False</td>\n",
       "      <td>[{'close_approach_date': '2019-09-05', 'close_...</td>\n",
       "      <td>False</td>\n",
       "      <td>http://www.neowsapp.com/rest/v1/neo/3843554?ap...</td>\n",
       "      <td>0.153234</td>\n",
       "      <td>0.342642</td>\n",
       "      <td>153.233943</td>\n",
       "      <td>342.641513</td>\n",
       "      <td>0.095215</td>\n",
       "      <td>0.212907</td>\n",
       "      <td>502.736049</td>\n",
       "      <td>1124.151981</td>\n",
       "    </tr>\n",
       "  </tbody>\n",
       "</table>\n",
       "</div>"
      ],
      "text/plain": [
       "        id neo_reference_id        name  \\\n",
       "0  3843599          3843599  (2019 QL1)   \n",
       "1  3843554          3843554  (2019 PA3)   \n",
       "\n",
       "                                    nasa_jpl_url  absolute_magnitude_h  \\\n",
       "0  http://ssd.jpl.nasa.gov/sbdb.cgi?sstr=3843599                22.900   \n",
       "1  http://ssd.jpl.nasa.gov/sbdb.cgi?sstr=3843554                21.196   \n",
       "\n",
       "   is_potentially_hazardous_asteroid  \\\n",
       "0                              False   \n",
       "1                              False   \n",
       "\n",
       "                                 close_approach_data  is_sentry_object  \\\n",
       "0  [{'close_approach_date': '2019-09-05', 'close_...             False   \n",
       "1  [{'close_approach_date': '2019-09-05', 'close_...             False   \n",
       "\n",
       "                                          links.self  \\\n",
       "0  http://www.neowsapp.com/rest/v1/neo/3843599?ap...   \n",
       "1  http://www.neowsapp.com/rest/v1/neo/3843554?ap...   \n",
       "\n",
       "   estimated_diameter.kilometers.estimated_diameter_min  \\\n",
       "0                                           0.069913      \n",
       "1                                           0.153234      \n",
       "\n",
       "   estimated_diameter.kilometers.estimated_diameter_max  \\\n",
       "0                                           0.156329      \n",
       "1                                           0.342642      \n",
       "\n",
       "   estimated_diameter.meters.estimated_diameter_min  \\\n",
       "0                                         69.912523   \n",
       "1                                        153.233943   \n",
       "\n",
       "   estimated_diameter.meters.estimated_diameter_max  \\\n",
       "0                                        156.329154   \n",
       "1                                        342.641513   \n",
       "\n",
       "   estimated_diameter.miles.estimated_diameter_min  \\\n",
       "0                                         0.043442   \n",
       "1                                         0.095215   \n",
       "\n",
       "   estimated_diameter.miles.estimated_diameter_max  \\\n",
       "0                                         0.097138   \n",
       "1                                         0.212907   \n",
       "\n",
       "   estimated_diameter.feet.estimated_diameter_min  \\\n",
       "0                                      229.371803   \n",
       "1                                      502.736049   \n",
       "\n",
       "   estimated_diameter.feet.estimated_diameter_max  \n",
       "0                                      512.890943  \n",
       "1                                     1124.151981  "
      ]
     },
     "execution_count": 258,
     "metadata": {},
     "output_type": "execute_result"
    }
   ],
   "source": [
    "program_starts = time.time()\n",
    "new_df = pd.concat([pd.DataFrame(json_normalize(neodata['near_earth_objects'],x,max_level=10)) for x in neodata['near_earth_objects'].keys()]).reset_index(drop=True)\n",
    "now = time.time()\n",
    "print(\"It has been {0} seconds since the loop started\".format(now - program_starts))\n",
    "\n",
    "\n",
    "print(new_df.shape)\n",
    "#print(json.dumps(neodata, sort_keys=True, indent=4))\n",
    "new_df.head(2)"
   ]
  },
  {
   "cell_type": "markdown",
   "metadata": {},
   "source": [
    "# Approach 2\n",
    "\n",
    "##### Is able to access all the required data but is much slower than Approach 2"
   ]
  },
  {
   "cell_type": "code",
   "execution_count": 266,
   "metadata": {},
   "outputs": [
    {
     "name": "stdout",
     "output_type": "stream",
     "text": [
      "Today 86 asteroids will be passing close to planet Earth:\n",
      "\n",
      "dict_keys(['2019-09-05', '2019-09-06', '2019-09-03', '2019-09-04', '2019-09-07', '2019-09-01', '2019-09-02'])\n",
      "It has been 0.3560497760772705 seconds since the loop started\n"
     ]
    },
    {
     "data": {
      "text/plain": [
       "True"
      ]
     },
     "execution_count": 266,
     "metadata": {},
     "output_type": "execute_result"
    }
   ],
   "source": [
    "print(\"Today \" + str(neodata[\"element_count\"]) + \" asteroids will be passing close to planet Earth:\")\n",
    "print(\"\")\n",
    "asteroids = neodata[\"near_earth_objects\"]\n",
    "print(asteroids.keys())\n",
    "\n",
    "tmp = pd.DataFrame()\n",
    "program_starts = time.time()\n",
    "for asteroid in asteroids:\n",
    "    for field in asteroids[asteroid]:\n",
    "            tmp = tmp.append({'Estimated_Diameter': round((field[\"estimated_diameter\"][\"meters\"][\"estimated_diameter_min\"]+field[\"estimated_diameter\"][\"meters\"][\"estimated_diameter_max\"])/2),\n",
    "                            'Close_Approach_Date_Time': field[\"close_approach_data\"][0][\"close_approach_date_full\"],\n",
    "                            'Velocity':field[\"close_approach_data\"][0][\"relative_velocity\"][\"kilometers_per_hour\"],\n",
    "                            'Distance_to_Earth':field[\"close_approach_data\"][0][\"miss_distance\"][\"kilometers\"], \n",
    "                            'Asteroid_name':field[\"name\"],\n",
    "                            'Hazardous':field[\"is_potentially_hazardous_asteroid\"],\n",
    "                            'neo_ref_id':field[\"id\"]},ignore_index=True)\n",
    "now = time.time()\n",
    "print(\"It has been {0} seconds since the loop started\".format(now - program_starts))\n",
    "tmp.head()\n",
    "#No asteroids are repeated \n",
    "tmp['neo_ref_id'].is_unique"
   ]
  },
  {
   "cell_type": "code",
   "execution_count": null,
   "metadata": {},
   "outputs": [],
   "source": []
  }
 ],
 "metadata": {
  "kernelspec": {
   "display_name": "tnsflo_k",
   "language": "python",
   "name": "tnsflo"
  },
  "language_info": {
   "codemirror_mode": {
    "name": "ipython",
    "version": 3
   },
   "file_extension": ".py",
   "mimetype": "text/x-python",
   "name": "python",
   "nbconvert_exporter": "python",
   "pygments_lexer": "ipython3",
   "version": "3.7.4"
  }
 },
 "nbformat": 4,
 "nbformat_minor": 2
}
