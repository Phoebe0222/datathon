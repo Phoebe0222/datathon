{
 "cells": [
  {
   "cell_type": "markdown",
   "metadata": {},
   "source": [
    "# Using SARA API"
   ]
  },
  {
   "cell_type": "code",
   "execution_count": 2,
   "metadata": {},
   "outputs": [],
   "source": [
    "import webbrowser\n",
    "import urllib.request, json \n",
    "from datetime import date, timedelta\n",
    "from math import sin, cos, sqrt, atan2, radians\n",
    "from shapely.wkt import loads as load_wkt"
   ]
  },
  {
   "cell_type": "code",
   "execution_count": 126,
   "metadata": {},
   "outputs": [],
   "source": [
    "class sara():\n",
    "    \n",
    "    def __init__ (self, geometry, dataRange = 10, completionDate = date.today()):\n",
    "        self.email = 'mlsa.unimelb.au@gmail.com'\n",
    "        self.password = 'mlsa12345'\n",
    "        self.startDate = completionDate - timedelta(days=10)\n",
    "        self.completionDate = completionDate\n",
    "        self.geometry = geometry\n",
    "        self.centroid = load_wkt(geometry).centroid\n",
    "    \n",
    "    def get_url(self):\n",
    "        self.link = \"https://copernicus.nci.org.au/sara.server/1.0/api/collections/S2/search.json?_pretty=1&startDate={}&completionDate={}&geometry={}&processingLevel=L2A\".format(self.startDate,self.completionDate,self.geometry)\n",
    "        self.link = self.link.replace(\" \",\"\")\n",
    "        return self.link\n",
    "    \n",
    "    def get_distance(self,lon2,lat2):\n",
    "        # approximate radius of earth in km\n",
    "        R = 6373.0\n",
    "        lon1 = self.centroid.x\n",
    "        lat1= self.centroid.y\n",
    "\n",
    "        lat1 = radians(lat1)\n",
    "        lon1 = radians(lon1)\n",
    "        lat2 = radians(lat2)\n",
    "        lon2 = radians(lon2)\n",
    "\n",
    "        dlon = lon2 - lon1\n",
    "        dlat = lat2 - lat1\n",
    "\n",
    "        a = sin(dlat / 2)**2 + cos(lat1) * cos(lat2) * sin(dlon / 2)**2\n",
    "        c = 2 * atan2(sqrt(a), sqrt(1 - a))\n",
    "\n",
    "        distance = R * c # in km\n",
    "        \n",
    "        return distance\n",
    "\n",
    "    def get_json(self):\n",
    "        with urllib.request.urlopen(self.link) as url:\n",
    "            self.data = json.loads(url.read().decode())\n",
    "            count = self.data['properties']['totalResults']\n",
    "            download_links = []\n",
    "            for i in range(count):\n",
    "                if self.data['features'][i]['properties']['cloudCover'] <= 20:\n",
    "                    feature_centroid = self.data['features'][i]['properties']['centroid']['coordinates']\n",
    "                    if self.get_distance(feature_centroid[0], feature_centroid[1]) <= 100:\n",
    "                        download_links.append(self.data['features'][i]['properties']['services']['download']['url'])\n",
    "        self.download_links = download_links\n",
    "        return self.download_links\n",
    "    \n",
    "    def download_from_link(self):\n",
    "        download_link = self.download_links[0]\n",
    "        ! curl -n -L -O -J -k -u {self.email}:{self.password} {download_link}\n",
    "        \n",
    "                \n"
   ]
  },
  {
   "cell_type": "code",
   "execution_count": 127,
   "metadata": {},
   "outputs": [
    {
     "data": {
      "text/plain": [
       "['https://copernicus.nci.org.au/sara.server/1.0/collections/S2/0a84458f-23d5-5698-acea-9ff1284a22ba/download',\n",
       " 'https://copernicus.nci.org.au/sara.server/1.0/collections/S2/a3cd8983-dd81-503e-bd4d-cea0b707da4d/download',\n",
       " 'https://copernicus.nci.org.au/sara.server/1.0/collections/S2/95e4bb41-c612-5210-b8bc-f650feea3582/download',\n",
       " 'https://copernicus.nci.org.au/sara.server/1.0/collections/S2/46b3d073-5976-507a-8516-2ff82d7c1f1f/download',\n",
       " 'https://copernicus.nci.org.au/sara.server/1.0/collections/S2/5df07522-7674-5be1-b5d1-85a0ae189cbe/download',\n",
       " 'https://copernicus.nci.org.au/sara.server/1.0/collections/S2/b018c0b8-e607-5135-af4c-ffd7c9a5cf69/download',\n",
       " 'https://copernicus.nci.org.au/sara.server/1.0/collections/S2/6fa54ee0-8ac7-517c-a9af-1ec7fdc3cbcf/download',\n",
       " 'https://copernicus.nci.org.au/sara.server/1.0/collections/S2/b6ab70af-76a4-5bd3-afdf-eaf1f32389ba/download']"
      ]
     },
     "execution_count": 127,
     "metadata": {},
     "output_type": "execute_result"
    }
   ],
   "source": [
    "test = sara(geometry = 'POLYGON((149.03 -35.18,149.23 -35.18,149.23 -35.38,149.03 -35.38,149.03 -35.18))')\n",
    "test.get_url()\n",
    "test.get_json()"
   ]
  },
  {
   "cell_type": "code",
   "execution_count": 128,
   "metadata": {},
   "outputs": [
    {
     "name": "stdout",
     "output_type": "stream",
     "text": [
      "  % Total    % Received % Xferd  Average Speed   Time    Time     Time  Current\n",
      "                                 Dload  Upload   Total   Spent    Left  Speed\n",
      "  0     0    0     0    0     0      0      0 --:--:--  0:00:03 --:--:--     0\n",
      "100   336  100   336    0     0     50      0  0:00:06  0:00:06 --:--:--   120\n",
      "  1 1009M    1 13.8M    0     0   420k      0  0:41:01  0:00:33  0:40:28  720k^C\n"
     ]
    }
   ],
   "source": [
    "test.download_from_link()"
   ]
  },
  {
   "cell_type": "code",
   "execution_count": null,
   "metadata": {},
   "outputs": [],
   "source": []
  }
 ],
 "metadata": {
  "kernelspec": {
   "display_name": "mlsa",
   "language": "python",
   "name": "mlsa"
  },
  "language_info": {
   "codemirror_mode": {
    "name": "ipython",
    "version": 3
   },
   "file_extension": ".py",
   "mimetype": "text/x-python",
   "name": "python",
   "nbconvert_exporter": "python",
   "pygments_lexer": "ipython3",
   "version": "3.7.4"
  }
 },
 "nbformat": 4,
 "nbformat_minor": 2
}
