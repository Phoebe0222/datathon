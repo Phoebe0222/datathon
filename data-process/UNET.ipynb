{
 "cells": [
  {
   "cell_type": "code",
   "execution_count": 1,
   "metadata": {},
   "outputs": [],
   "source": [
    "import os\n",
    "import glob\n",
    "import zipfile\n",
    "import functools\n",
    "\n",
    "import numpy as np\n",
    "import matplotlib.pyplot as plt\n",
    "import matplotlib as mpl\n",
    "mpl.rcParams['axes.grid'] = False\n",
    "mpl.rcParams['figure.figsize'] = (12,12)\n",
    "\n",
    "from sklearn.model_selection import train_test_split\n",
    "import matplotlib.image as mpimg\n",
    "import pandas as pd\n",
    "from PIL import Image"
   ]
  },
  {
   "cell_type": "code",
   "execution_count": 2,
   "metadata": {},
   "outputs": [],
   "source": [
    "import tensorflow as tf\n",
    "import tensorflow.contrib as tfcontrib\n",
    "from tensorflow.python.keras import layers\n",
    "from tensorflow.python.keras import losses\n",
    "from tensorflow.python.keras import models\n",
    "from tensorflow.python.keras import backend as K"
   ]
  },
  {
   "cell_type": "code",
   "execution_count": 3,
   "metadata": {},
   "outputs": [],
   "source": [
    "from ImageGen import *"
   ]
  },
  {
   "cell_type": "code",
   "execution_count": 105,
   "metadata": {},
   "outputs": [],
   "source": [
    "def tile_id_gen():\n",
    "    if not os.path.exists('./ModelTrainingData'):\n",
    "        os.makedirs('./ModelTrainingData')\n",
    "    subprocess.run(\"ls ./ModelTrainingData/input | grep 'tci'| cut -d'-' -f2 -f3 |sort --unique > TileIds.txt\",shell=True)\n",
    "    f = open(\"./ModelTrainingData/TileIds.txt\")\n",
    "    count = int(subprocess.run(\"ls ./ModelTrainingData/input | grep 'tci'| cut -d'-' -f2 -f3 |sort --unique | wc -l\", stdout=subprocess.PIPE,shell=True).stdout.decode('utf-8'))\n",
    "    \n",
    "    tile_x = []\n",
    "    tile_y = []\n",
    "    img = []\n",
    "    \n",
    "    print(\"Creating the Data list .....\")\n",
    "    \n",
    "    for x in f:\n",
    "        tile_x.append(str(x).split(\"-\",1)[0])\n",
    "        tile_y.append(str(x).split(\"-\",1)[1].replace(\"\\n\",\"\"))\n",
    "    print('{} tiles ids are created'.format(count))    \n",
    "    return tile_x, tile_y,count"
   ]
  },
  {
   "cell_type": "code",
   "execution_count": 111,
   "metadata": {},
   "outputs": [],
   "source": [
    "# Open an image file and get all the pixels, be careful of the x,y swaps\n",
    "def get_image_pixels(path):\n",
    "    img = Image.open(path)\n",
    "    pixels = img.load() \n",
    "    return pixels\n",
    "\n",
    "def get_mask_path(tile_x, tile_y, mask_type): #mask_type is sugarcane coz it's in the file name\n",
    "    path = f\"./data/{mask_type}masks/mask-x{tile_x}-y{tile_y}.png\"\n",
    "    return path\n",
    "\n",
    "def is_in_mask(mask_pixels, pixel_x, pixel_y):\n",
    "    if mask_pixels[pixel_x,pixel_y] == IS_IN_MASK_PIXEL_VALUE: # the pixel in the mask file is black \n",
    "        return True \n",
    "    else:\n",
    "        return False\n",
    "\n",
    "    \n",
    "def get_mask_pixels(tile_x, tile_y,mask_type='sugarcane'):\n",
    "    \n",
    "    # get the pixels from mask and image \n",
    "    mask_pixels = get_image_pixels(get_mask_path(tile_x, tile_y, mask_type))\n",
    "    \n",
    "    width = TILE_WIDTH_PX \n",
    "    height = TILE_HEIGHT_PX \n",
    "    mask_sequence = []\n",
    "\n",
    "    for x in range(0, width):\n",
    "        for y in range(0, height):\n",
    "\n",
    "            # is the pixel in my mask?\n",
    "            in_mask = is_in_mask(mask_pixels, y, x)\n",
    "            if in_mask:\n",
    "                mask_sequence.append(1)\n",
    "            else:\n",
    "                mask_sequence.append(0) #if not in mask, change to transparent\n",
    "                \n",
    "    mask = Image.new(\"I\", (width, height))\n",
    "    mask.putdata(mask_sequence)\n",
    "    #mask.transpose(Image.FLIP_TOP_BOTTOM).transpose(Image.FLIP_LEFT_RIGHT)\n",
    "    if not os.path.exists('./ModelTrainingData/label'):\n",
    "        os.makedirs('./ModelTrainingData/label')\n",
    "    mask.save(f'./ModelTrainingData/label/mask-{tile_x}-{tile_y}.png')\n",
    "    #print(\"mask-{}-{}\".format(tile_x,tile_y)+\" is saved\")\n",
    "    return mask_sequence\n",
    "    "
   ]
  },
  {
   "cell_type": "code",
   "execution_count": 112,
   "metadata": {},
   "outputs": [
    {
     "name": "stdout",
     "output_type": "stream",
     "text": [
      "Creating the Data list .....\n",
      "65 tiles ids are created\n",
      "all 65 masks are saved\n"
     ]
    }
   ],
   "source": [
    "# creating (0,1) masks \n",
    "tile_x, tile_y, count= tile_id_gen()\n",
    "IS_IN_MASK_PIXEL_VALUE = (0, 0, 0, 255)\n",
    "TILE_WIDTH_PX = 512 - 1\n",
    "TILE_HEIGHT_PX = 512 - 1\n",
    "for i in range(count):\n",
    "    mask_sequence = get_mask_pixels(tile_x[i], tile_y[i],mask_type='sugarcane')\n",
    "print(\"all {} masks are saved\".format(count))"
   ]
  },
  {
   "cell_type": "code",
   "execution_count": 115,
   "metadata": {},
   "outputs": [
    {
     "name": "stdout",
     "output_type": "stream",
     "text": [
      "['./ModelTrainingData/input/tci-1536-1024-2019-08-09.png', './ModelTrainingData/input/ndvi-1536-1024-2019-08-09.png', './ModelTrainingData/input/fci-mode1-1536-1024-2019-08-09.png', './ModelTrainingData/input/tci-1536-1536-2019-08-09.png', './ModelTrainingData/input/ndvi-1536-1536-2019-08-09.png', './ModelTrainingData/input/fci-mode1-1536-1536-2019-08-09.png', './ModelTrainingData/input/tci-2048-1024-2019-08-09.png', './ModelTrainingData/input/ndvi-2048-1024-2019-08-09.png', './ModelTrainingData/input/fci-mode1-2048-1024-2019-08-09.png', './ModelTrainingData/input/tci-2048-1536-2019-08-09.png']\n",
      "['./ModelTrainingData/label/mask-1536-1024.png', './ModelTrainingData/label/mask-1536-1024.png', './ModelTrainingData/label/mask-1536-1024.png', './ModelTrainingData/label/mask-1536-1536.png', './ModelTrainingData/label/mask-1536-1536.png', './ModelTrainingData/label/mask-1536-1536.png', './ModelTrainingData/label/mask-2048-1024.png', './ModelTrainingData/label/mask-2048-1024.png', './ModelTrainingData/label/mask-2048-1024.png', './ModelTrainingData/label/mask-2048-1536.png']\n"
     ]
    }
   ],
   "source": [
    "# getting filenames\n",
    "f = open(\"./ModelTrainingData/TileIds.txt\")\n",
    "x_train_filenames = []\n",
    "y_train_filenames = []\n",
    "DATE = '2019-08-09'\n",
    "for id in f:\n",
    "    id = str(id).replace(\"\\n\",\"\")\n",
    "    x_train_filenames.append(os.path.join('./ModelTrainingData/input', \n",
    "                                          \"tci-{}-{}.png\".format(id,DATE)))\n",
    "    y_train_filenames.append(os.path.join('./ModelTrainingData/label', \n",
    "                                          \"mask-{}.png\".format(id)))\n",
    "    x_train_filenames.append(os.path.join('./ModelTrainingData/input', \n",
    "                                          \"ndvi-{}-{}.png\".format(id,DATE)))\n",
    "    y_train_filenames.append(os.path.join('./ModelTrainingData/label', \n",
    "                                          \"mask-{}.png\".format(id)))\n",
    "    x_train_filenames.append(os.path.join('./ModelTrainingData/input', \n",
    "                                          \"fci-mode1-{}-{}.png\".format(id,DATE)))\n",
    "    y_train_filenames.append(os.path.join('./ModelTrainingData/label', \n",
    "                                          \"mask-{}.png\".format(id)))\n",
    "print(x_train_filenames[:10]);print(y_train_filenames[:10] )    \n"
   ]
  },
  {
   "cell_type": "code",
   "execution_count": 118,
   "metadata": {},
   "outputs": [
    {
     "data": {
      "image/png": "[encoded data removed]",
      "text/plain": [
       "<Figure size 432x288 with 2 Axes>"
      ]
     },
     "metadata": {
      "needs_background": "light"
     },
     "output_type": "display_data"
    }
   ],
   "source": [
    "fname=x_train_filenames[0]\n",
    "label_path = y_train_filenames[0]\n",
    "\n",
    "plt.subplot(2,2,1)\n",
    "plt.imshow(mpimg.imread(fname))\n",
    "plt.subplot(2,2,2)\n",
    "plt.imshow(mpimg.imread(label_path))\n",
    "plt.show()"
   ]
  },
  {
   "cell_type": "code",
   "execution_count": 119,
   "metadata": {},
   "outputs": [],
   "source": [
    "def _process_pathnames(fname, label_path):\n",
    "  # We map this function onto each pathname pair  \n",
    "  img_str = tf.read_file(fname)\n",
    "  img = tf.image.decode_png(img_str, channels=3)\n",
    "\n",
    "  label_img_str = tf.read_file(label_path)\n",
    "  label_img = tf.image.decode_png(label_img_str)[0]\n",
    "  # The label image should only have values of 1 or 0, indicating pixel wise\n",
    "  # object (car) or not (background). We take the first channel only. \n",
    "  label_img = tf.expand_dims(label_img, axis=-1)\n",
    "  return img, label_img"
   ]
  },
  {
   "cell_type": "code",
   "execution_count": 120,
   "metadata": {},
   "outputs": [
    {
     "name": "stdout",
     "output_type": "stream",
     "text": [
      "(511, 511, 1) [0]\n"
     ]
    }
   ],
   "source": [
    "img_str = tf.read_file(fname)\n",
    "img = tf.image.decode_png(img_str, channels=3)\n",
    "#print(img.shape)\n",
    "\n",
    "    \n",
    "label_img_str=tf.read_file(label_path)\n",
    "label_img=tf.image.decode_png(label_img_str)\n",
    "\n",
    "with tf.Session() as sess:\n",
    "    img = sess.run(label_img)\n",
    "    print(img.shape, img[510][510])"
   ]
  },
  {
   "cell_type": "code",
   "execution_count": 121,
   "metadata": {},
   "outputs": [
    {
     "data": {
      "text/plain": [
       "(<tf.Tensor 'DecodePng_61:0' shape=(?, ?, 3) dtype=uint8>,\n",
       " <tf.Tensor 'ExpandDims_1:0' shape=(?, ?, 1) dtype=uint8>)"
      ]
     },
     "execution_count": 121,
     "metadata": {},
     "output_type": "execute_result"
    }
   ],
   "source": [
    "_process_pathnames(fname, label_path)"
   ]
  },
  {
   "cell_type": "code",
   "execution_count": null,
   "metadata": {},
   "outputs": [],
   "source": []
  },
  {
   "cell_type": "code",
   "execution_count": null,
   "metadata": {},
   "outputs": [],
   "source": []
  }
 ],
 "metadata": {
  "kernelspec": {
   "display_name": "mlsa",
   "language": "python",
   "name": "mlsa"
  },
  "language_info": {
   "codemirror_mode": {
    "name": "ipython",
    "version": 3
   },
   "file_extension": ".py",
   "mimetype": "text/x-python",
   "name": "python",
   "nbconvert_exporter": "python",
   "pygments_lexer": "ipython3",
   "version": "3.7.4"
  }
 },
 "nbformat": 4,
 "nbformat_minor": 2
}
