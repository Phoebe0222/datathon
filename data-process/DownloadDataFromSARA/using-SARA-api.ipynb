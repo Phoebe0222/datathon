{
 "cells": [
  {
   "cell_type": "markdown",
   "metadata": {},
   "source": [
    "# Using SARA API"
   ]
  },
  {
   "cell_type": "code",
   "execution_count": 1,
   "metadata": {},
   "outputs": [],
   "source": [
    "import webbrowser\n",
    "import urllib.request, json \n",
    "from datetime import date, timedelta\n",
    "from math import sin, cos, sqrt, atan2, radians\n",
    "from shapely.wkt import loads as load_wkt"
   ]
  },
  {
   "cell_type": "code",
   "execution_count": 17,
   "metadata": {},
   "outputs": [],
   "source": [
    "class sara():\n",
    "    '''\n",
    "    parameter:\n",
    "        geometry is the user-defined polygon, a string e.g. 'POLYGON((point1,point2,point3,point4))'\n",
    "        dateRange is the range of time searched for, default is 10 days\n",
    "        completionDate is the end of date searched for, default is today \n",
    "    \n",
    "    \n",
    "    output:\n",
    "        get_url gives search results from the parameters from SARA API, in the format of json file url link\n",
    "        get_json gives the selected download links from the json file \n",
    "        download_from_link starts the download process in the current directory \n",
    "    \n",
    "    '''\n",
    "    \n",
    "    def __init__ (self, geometry, dateRange = 10, completionDate = date.today()):\n",
    "        # default is search for the past 10 days data\n",
    "        self.email = 'mlsa.unimelb.au@gmail.com'\n",
    "        self.password = 'mlsa12345'\n",
    "        self.startDate = completionDate - timedelta(days=dateRange)\n",
    "        self.completionDate = completionDate\n",
    "        self.geometry = geometry\n",
    "        self.centroid = load_wkt(geometry).centroid\n",
    "    \n",
    "    def get_url(self):\n",
    "        self.link = \"https://copernicus.nci.org.au/sara.server/1.0/api/collections/S2/search.json?_pretty=1&startDate={}&completionDate={}&geometry={}&processingLevel=L2A\".format(self.startDate,self.completionDate,self.geometry)\n",
    "        self.link = self.link.replace(\" \",\"\")\n",
    "        return self.link\n",
    "    \n",
    "    def get_distance(self,lon2,lat2):\n",
    "        # approximate radius of earth in km\n",
    "        R = 6373.0\n",
    "        lon1 = self.centroid.x\n",
    "        lat1= self.centroid.y\n",
    "\n",
    "        lat1 = radians(lat1)\n",
    "        lon1 = radians(lon1)\n",
    "        lat2 = radians(lat2)\n",
    "        lon2 = radians(lon2)\n",
    "\n",
    "        dlon = lon2 - lon1\n",
    "        dlat = lat2 - lat1\n",
    "\n",
    "        a = sin(dlat / 2)**2 + cos(lat1) * cos(lat2) * sin(dlon / 2)**2\n",
    "        c = 2 * atan2(sqrt(a), sqrt(1 - a))\n",
    "\n",
    "        distance = R * c # in km\n",
    "        \n",
    "        return distance\n",
    "\n",
    "    def get_json(self):\n",
    "        with urllib.request.urlopen(self.link) as url:\n",
    "            self.data = json.loads(url.read().decode())\n",
    "            count = self.data['properties']['totalResults']\n",
    "            download_links = []\n",
    "            # select from the searched results, with cloud cover no larger than 20 and centroid distance no larger than 10\n",
    "            for i in range(count):\n",
    "                if self.data['features'][i]['properties']['cloudCover'] <= 20:\n",
    "                    feature_centroid = self.data['features'][i]['properties']['centroid']['coordinates']\n",
    "                    if self.get_distance(feature_centroid[0], feature_centroid[1]) <= 70:\n",
    "                        download_links.append(self.data['features'][i]['properties']['services']['download']['url'])\n",
    "\n",
    "        self.download_links = download_links\n",
    "        return self.download_links\n",
    "    \n",
    "     \n",
    "    def download_from_link(self, quicklook = True):\n",
    "         if quicklook == True: webbrowser.open(self.data['features'][0]['properties']['quicklook'])\n",
    "         download_link = self.download_links[0]\n",
    "         ! pwd \n",
    "         ! curl -n -L -O -J -k -u {self.email}:{self.password} {download_link}\n",
    "        \n",
    "                \n"
   ]
  },
  {
   "cell_type": "code",
   "execution_count": 18,
   "metadata": {},
   "outputs": [
    {
     "data": {
      "text/plain": "['https://copernicus.nci.org.au/sara.server/1.0/collections/S2/149f8167-d9f6-5ef3-8941-e44fb7d5526f/download',\n 'https://copernicus.nci.org.au/sara.server/1.0/collections/S2/5fbad5e7-f61d-54d9-8c79-a55d3c587f96/download',\n 'https://copernicus.nci.org.au/sara.server/1.0/collections/S2/2ad13f32-6650-5ef7-9244-2e0cbebaf004/download',\n 'https://copernicus.nci.org.au/sara.server/1.0/collections/S2/87a15b2a-ab07-5ece-be76-79b2428b8b39/download',\n 'https://copernicus.nci.org.au/sara.server/1.0/collections/S2/e7a5ac5b-721f-59f1-ac82-4cde782aab6c/download',\n 'https://copernicus.nci.org.au/sara.server/1.0/collections/S2/a8691e6b-de57-5015-ac2b-ab5f13745bff/download',\n 'https://copernicus.nci.org.au/sara.server/1.0/collections/S2/045a979b-0afb-5eac-b5b0-0f936b458342/download']"
     },
     "execution_count": 18,
     "metadata": {},
     "output_type": "execute_result"
    }
   ],
   "source": [
    "test = sara(geometry = 'POLYGON((149.03 -35.18,149.23 -35.18,149.23 -35.38,149.03 -35.38,149.03 -35.18))')\n",
    "test.get_url()\n",
    "test.get_json()"
   ]
  },
  {
   "cell_type": "code",
   "execution_count": 14,
   "metadata": {},
   "outputs": [
    {
     "name": "stdout",
     "output_type": "stream",
     "text": "/Users/yuanwenliang/Documents/GitHubRepos/datathon-mel/datathon\n"
    }
   ],
   "source": [
    "test.download_from_link()"
   ]
  },
  {
   "cell_type": "code",
   "execution_count": null,
   "metadata": {},
   "outputs": [],
   "source": []
  }
 ],
 "metadata": {
  "kernelspec": {
   "display_name": "mlsa",
   "language": "python",
   "name": "mlsa"
  },
  "language_info": {
   "codemirror_mode": {
    "name": "ipython",
    "version": 3
   },
   "file_extension": ".py",
   "mimetype": "text/x-python",
   "name": "python",
   "nbconvert_exporter": "python",
   "pygments_lexer": "ipython3",
   "version": "3.7.4"
  }
 },
 "nbformat": 4,
 "nbformat_minor": 2
}